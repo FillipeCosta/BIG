{
 "cells": [
  {
   "cell_type": "code",
   "execution_count": 1,
   "id": "d47753fc-4119-46f5-b1e6-3979a5cb2f70",
   "metadata": {},
   "outputs": [
    {
     "name": "stdout",
     "output_type": "stream",
     "text": [
      "{'prediction': 6.4002685546875}\n"
     ]
    }
   ],
   "source": [
    "import requests\n",
    "import json\n",
    "import pandas as pd\n",
    "\n",
    "# Carrega o arquivo .xlsx e converte para JSON\n",
    "file_path = 'dados_com_tratamento.xlsx'\n",
    "data = pd.read_excel(file_path)\n",
    "data_json = data.to_json(orient=\"records\")  # Converte para JSON\n",
    "\n",
    "# Seleciona a primeira linha como exemplo\n",
    "first_record = json.loads(data_json)[0]  # Carrega a primeira linha do JSON para um dicionário\n",
    "\n",
    "# URL da API\n",
    "url = 'http://127.0.0.1:5000/predict'\n",
    "\n",
    "# Envia a requisição para a API com os dados JSON\n",
    "response = requests.post(url, json=first_record)\n",
    "\n",
    "# Exibe a resposta da API\n",
    "print(response.json())\n"
   ]
  },
  {
   "cell_type": "code",
   "execution_count": null,
   "id": "ed62777b-fbb0-4d6b-ba15-0ce573469862",
   "metadata": {},
   "outputs": [],
   "source": []
  }
 ],
 "metadata": {
  "kernelspec": {
   "display_name": "Python 3 (ipykernel)",
   "language": "python",
   "name": "python3"
  },
  "language_info": {
   "codemirror_mode": {
    "name": "ipython",
    "version": 3
   },
   "file_extension": ".py",
   "mimetype": "text/x-python",
   "name": "python",
   "nbconvert_exporter": "python",
   "pygments_lexer": "ipython3",
   "version": "3.12.3"
  }
 },
 "nbformat": 4,
 "nbformat_minor": 5
}
